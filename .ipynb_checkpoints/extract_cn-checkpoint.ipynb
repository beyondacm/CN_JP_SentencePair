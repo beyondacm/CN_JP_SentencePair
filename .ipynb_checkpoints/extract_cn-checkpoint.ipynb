{
 "cells": [
  {
   "cell_type": "code",
   "execution_count": 1,
   "metadata": {
    "collapsed": false
   },
   "outputs": [
    {
     "name": "stdout",
     "output_type": "stream",
     "text": [
      "cat: result_cn.txt: No such file or directory\r\n"
     ]
    }
   ],
   "source": [
    "cat result_cn.txt | sed 's/<[^<>]*>//g' | awk -F\"<\" '{print $1}'"
   ]
  },
  {
   "cell_type": "code",
   "execution_count": 56,
   "metadata": {
    "collapsed": true
   },
   "outputs": [],
   "source": [
    "import codecs\n",
    "from lxml import etree"
   ]
  },
  {
   "cell_type": "markdown",
   "metadata": {},
   "source": [
    "# Generate urls "
   ]
  },
  {
   "cell_type": "code",
   "execution_count": 57,
   "metadata": {
    "collapsed": false
   },
   "outputs": [
    {
     "name": "stdout",
     "output_type": "stream",
     "text": [
      "  % Total    % Received % Xferd  Average Speed   Time    Time     Time  Current\n",
      "                                 Dload  Upload   Total   Spent    Left  Speed\n",
      "100 47777    0 47777    0     0  42571      0 --:--:--  0:00:01 --:--:-- 42581\n"
     ]
    }
   ],
   "source": [
    "# First Get Page Num \n",
    "init_url = \"http://cjjc.weblio.jp/sentence/content/%E6%88%91/\"\n",
    "\n",
    "!curl -o init.html $init_url\n",
    "\n",
    "f=codecs.open(\"./init.html\",\"r\",\"utf-8\")\n",
    "content=f.read()\n",
    "f.close()\n",
    "tree=etree.HTML(content)\n",
    "\n",
    "numOfPages = int( tree.xpath(\"//div[@class='kiji']/a[last()-1]\")[0].text )\n",
    "\n",
    "with open('./urls/urls_1.txt', 'w') as fout :\n",
    "    for i in range(2,numOfPages) :\n",
    "        url = init_url + str(i)\n",
    "        fout.write(url + '\\n')"
   ]
  },
  {
   "cell_type": "code",
   "execution_count": null,
   "metadata": {
    "collapsed": true
   },
   "outputs": [],
   "source": []
  }
 ],
 "metadata": {
  "kernelspec": {
   "display_name": "Python 2",
   "language": "python",
   "name": "python2"
  },
  "language_info": {
   "codemirror_mode": {
    "name": "ipython",
    "version": 2
   },
   "file_extension": ".py",
   "mimetype": "text/x-python",
   "name": "python",
   "nbconvert_exporter": "python",
   "pygments_lexer": "ipython2",
   "version": "2.7.10"
  }
 },
 "nbformat": 4,
 "nbformat_minor": 0
}
